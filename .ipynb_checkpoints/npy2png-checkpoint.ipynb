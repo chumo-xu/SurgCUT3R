{
 "cells": [
  {
   "cell_type": "code",
   "execution_count": null,
   "id": "9e8e3b34-dd27-474e-936d-12cc76e757f1",
   "metadata": {},
   "outputs": [],
   "source": [
    "import numpy as np\n",
    "import matplotlib.pyplot as plt\n",
    "\n",
    "# 加载深度图\n",
    "depth_map = np.load('/hy-tmp/CUT3R/EndoNeRF_reconstruction_visthreshold1_offline/depth/000000.npy')\n",
    "\n",
    "# 可视化深度图\n",
    "plt.figure(figsize=(10, 8))\n",
    "plt.imshow(depth_map, cmap='plasma')  # 使用 'plasma' 色图\n",
    "plt.colorbar(label='Depth (meters)')  # 添加颜色条\n",
    "plt.title('Depth Map Visualization')\n",
    "plt.axis('off')  # 关闭坐标轴\n",
    "plt.show()"
   ]
  }
 ],
 "metadata": {
  "kernelspec": {
   "display_name": "Python 3 (ipykernel)",
   "language": "python",
   "name": "python3"
  },
  "language_info": {
   "codemirror_mode": {
    "name": "ipython",
    "version": 3
   },
   "file_extension": ".py",
   "mimetype": "text/x-python",
   "name": "python",
   "nbconvert_exporter": "python",
   "pygments_lexer": "ipython3",
   "version": "3.11.8"
  }
 },
 "nbformat": 4,
 "nbformat_minor": 5
}
